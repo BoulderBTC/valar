{
 "metadata": {
  "name": "valar api"
 },
 "nbformat": 3,
 "nbformat_minor": 0,
 "worksheets": [
  {
   "cells": [
    {
     "cell_type": "code",
     "collapsed": false,
     "input": [
      "#get miners\n",
      "import requests\n",
      "\n",
      "url = \"http://127.0.0.1:5000/\"\n",
      "\n",
      "r = requests.get(url + \"miner/\")\n",
      "print r.json()"
     ],
     "language": "python",
     "metadata": {},
     "outputs": [
      {
       "output_type": "stream",
       "stream": "stdout",
       "text": [
        "{u'_items': [{u'updated': u'Sat, 25 Jan 2014 21:22:34 GMT', u'name': u'Miner1', u'created': u'Sat, 25 Jan 2014 21:22:34 GMT', u'hostname': u'miner1.local', u'etag': u'377d28f8680319f92eeab4b345602f2706f4fecd', u'_links': {u'self': {u'href': u'/miner/52e42b1a823ac2155109ef9a', u'title': u'miner'}}, u'_id': u'52e42b1a823ac2155109ef9a'}], u'_links': {u'self': {u'href': u'/miner', u'title': u'miner'}, u'parent': {u'href': u'', u'title': u'home'}}}\n"
       ]
      }
     ],
     "prompt_number": 1
    },
    {
     "cell_type": "code",
     "collapsed": false,
     "input": [
      "#post a miner\n",
      "import requests, json\n",
      "\n",
      "url = \"http://127.0.0.1:5000/miner/\"\n",
      "\n",
      "payload = {  'name': 'Miner1', 'hostname': 'miner1.local' }\n",
      "headers = {\"content-type\": \"application/json\"}\n",
      "\n",
      "r = requests.post(url, headers = headers, data = json.dumps(payload))\n",
      "print r.text"
     ],
     "language": "python",
     "metadata": {},
     "outputs": [
      {
       "output_type": "stream",
       "stream": "stdout",
       "text": [
        "{\"status\": \"OK\", \"updated\": \"Sat, 25 Jan 2014 23:11:45 GMT\", \"_id\": \"52e444b1823ac2155109ef9f\", \"_links\": {\"self\": {\"href\": \"/miner/52e444b1823ac2155109ef9f\", \"title\": \"miner\"}}, \"etag\": \"67e62087a9d0489cb0fc1a13425b10315fb06a99\"}\n"
       ]
      }
     ],
     "prompt_number": 2
    },
    {
     "cell_type": "code",
     "collapsed": false,
     "input": [
      "#get stats\n",
      "import requests\n",
      "\n",
      "url = \"http://127.0.0.1:5000/\"\n",
      "\n",
      "r = requests.get(url + \"stats/\")\n",
      "print r.json()"
     ],
     "language": "python",
     "metadata": {},
     "outputs": [
      {
       "output_type": "stream",
       "stream": "stdout",
       "text": [
        "{u'_items': [{u'updated': u'Sat, 25 Jan 2014 21:30:32 GMT', u'firstname': u'Miner1', u'created': u'Sat, 25 Jan 2014 21:30:32 GMT', u'lastname': u'billy.local', u'miner': u'52e42b1a823ac2155109ef9a', u'etag': u'5e0b05e2908dcf2243ef0c815cc77f8cc58477da', u'_links': {u'self': {u'href': u'/stats/52e42cf8823ac2155109ef9b', u'title': u'Stat'}}, u'_id': u'52e42cf8823ac2155109ef9b'}, {u'updated': u'Sat, 25 Jan 2014 22:59:52 GMT', u'miner': u'52e42b1a823ac2155109ef9a', u'firstname': u'Miner2', u'created': u'Sat, 25 Jan 2014 22:59:52 GMT', u'lastname': u'bobby.local', u'when': u'Sat, 25 Jan 2014 21:30:32 GMT', u'etag': u'1c5eb360186c42b250336d8d33b58003c54497b3', u'_links': {u'self': {u'href': u'/stats/52e441e8823ac2155109ef9c', u'title': u'Stat'}}, u'_id': u'52e441e8823ac2155109ef9c'}, {u'updated': u'Sat, 25 Jan 2014 23:08:55 GMT', u'miner': u'52e42b1a823ac2155109ef9a', u'firstname': u'Miner3', u'created': u'Sat, 25 Jan 2014 23:08:55 GMT', u'lastname': u'bo.local', u'when': u'Sat, 25 Jan 2014 16:30:32 GMT', u'etag': u'01b630ff5af28e228f868de0ccf832bcd9dc7546', u'_links': {u'self': {u'href': u'/stats/52e44407823ac2155109ef9d', u'title': u'Stat'}}, u'_id': u'52e44407823ac2155109ef9d'}, {u'updated': u'Sat, 25 Jan 2014 23:10:20 GMT', u'miner': u'52e42b1a823ac2155109ef9a', u'firstname': u'Miner3', u'created': u'Sat, 25 Jan 2014 23:10:20 GMT', u'lastname': u'bonnie.local', u'when': u'Sat, 25 Jan 2014 16:10:20 GMT', u'etag': u'c0d6f6d45b95a5824cbdc4fdb159f7614d7b12ec', u'_links': {u'self': {u'href': u'/stats/52e4445c823ac2155109ef9e', u'title': u'Stat'}}, u'_id': u'52e4445c823ac2155109ef9e'}], u'_links': {u'self': {u'href': u'/stats', u'title': u'stats'}, u'parent': {u'href': u'', u'title': u'home'}}}\n"
       ]
      }
     ],
     "prompt_number": 3
    },
    {
     "cell_type": "code",
     "collapsed": false,
     "input": [
      "#post a stat\n",
      "import requests, json, datetime\n",
      "\n",
      "url = \"http://127.0.0.1:5000/stats/\"\n",
      "now = datetime.datetime.now()\n",
      "payload = {\n",
      "  'firstname': 'Miner3', \n",
      "  'lastname': 'bonnie.local', \n",
      "  'miner': '52e42b1a823ac2155109ef9a', \n",
      "  'when': now.strftime('%a, %d %b %Y %X GMT'),\n",
      "}\n",
      "headers = {\"content-type\": \"application/json\"}\n",
      "\n",
      "r = requests.post(url, headers = headers, data = json.dumps(payload))\n",
      "print r.text"
     ],
     "language": "python",
     "metadata": {},
     "outputs": [
      {
       "output_type": "stream",
       "stream": "stdout",
       "text": [
        "{\"status\": \"ERR\", \"issues\": [\"value 'bonnie.local' for field 'lastname' not unique\"]}\n"
       ]
      }
     ],
     "prompt_number": 4
    },
    {
     "cell_type": "code",
     "collapsed": false,
     "input": [],
     "language": "python",
     "metadata": {},
     "outputs": []
    }
   ],
   "metadata": {}
  }
 ]
}