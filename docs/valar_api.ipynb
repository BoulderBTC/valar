{
 "metadata": {
  "name": ""
 },
 "nbformat": 3,
 "nbformat_minor": 0,
 "worksheets": [
  {
   "cells": [
    {
     "cell_type": "code",
     "collapsed": false,
     "input": [
      "#get miners\n",
      "import requests, pprint\n",
      "\n",
      "url = \"http://127.0.0.1:5005/\"\n",
      "\n",
      "r = requests.get(url + \"miner/\")\n",
      "print pprint.pprint(r.json()['_items'])"
     ],
     "language": "python",
     "metadata": {},
     "outputs": [
      {
       "output_type": "stream",
       "stream": "stdout",
       "text": [
        "[{u'_id': u'52eec81c823ac22d646cc73f',\n",
        "  u'_links': {u'self': {u'href': u'/miner/Thorin', u'title': u'miner'}},\n",
        "  u'created': u'Sun, 02 Feb 2014 22:35:08 GMT',\n",
        "  u'etag': u'c311bc2be3073181ff04f9c147b5f57a84560c49',\n",
        "  u'hostname': u'thorin.local',\n",
        "  u'name': u'Thorin',\n",
        "  u'updated': u'Sun, 02 Feb 2014 22:35:08 GMT'},\n",
        " {u'_id': u'52eec832823ac22d646cc740',\n",
        "  u'_links': {u'self': {u'href': u'/miner/Radagast', u'title': u'miner'}},\n",
        "  u'created': u'Sun, 02 Feb 2014 22:35:30 GMT',\n",
        "  u'etag': u'07b2801af912c93b18decf0a2510e4305e60cb0a',\n",
        "  u'hostname': u'radagast.local',\n",
        "  u'name': u'Radagast',\n",
        "  u'updated': u'Sun, 02 Feb 2014 22:35:30 GMT'},\n",
        " {u'_id': u'52eec84a823ac22d646cc741',\n",
        "  u'_links': {u'self': {u'href': u'/miner/Pippin', u'title': u'miner'}},\n",
        "  u'created': u'Sun, 02 Feb 2014 22:35:54 GMT',\n",
        "  u'etag': u'ae50584b3a38adcaf16334992b3423ff4a2ee385',\n",
        "  u'hostname': u'pippin.local',\n",
        "  u'name': u'Pippin',\n",
        "  u'updated': u'Sun, 02 Feb 2014 22:35:54 GMT'},\n",
        " {u'_id': u'52eec869823ac22d646cc742',\n",
        "  u'_links': {u'self': {u'href': u'/miner/Alatar', u'title': u'miner'}},\n",
        "  u'created': u'Sun, 02 Feb 2014 22:36:25 GMT',\n",
        "  u'etag': u'e727a4dcd7f16e6933b00b21d0466afdde713981',\n",
        "  u'hostname': u'alatar.local',\n",
        "  u'name': u'Alatar',\n",
        "  u'updated': u'Sun, 02 Feb 2014 22:36:25 GMT'},\n",
        " {u'_id': u'52eec87f823ac22d646cc743',\n",
        "  u'_links': {u'self': {u'href': u'/miner/Pallando', u'title': u'miner'}},\n",
        "  u'created': u'Sun, 02 Feb 2014 22:36:47 GMT',\n",
        "  u'etag': u'd24f0fec5f46e24dc7c7cf65c4312e27a6e14652',\n",
        "  u'hostname': u'pallando.local',\n",
        "  u'name': u'Pallando',\n",
        "  u'updated': u'Sun, 02 Feb 2014 22:36:47 GMT'},\n",
        " {u'_id': u'52eec88e823ac22d646cc744',\n",
        "  u'_links': {u'self': {u'href': u'/miner/Gandalf', u'title': u'miner'}},\n",
        "  u'created': u'Sun, 02 Feb 2014 22:37:02 GMT',\n",
        "  u'etag': u'2d66e22d28ad20d36eb8ea56df423f4f3e50cd9b',\n",
        "  u'hostname': u'gandalf.local',\n",
        "  u'name': u'Gandalf',\n",
        "  u'updated': u'Sun, 02 Feb 2014 22:37:02 GMT'},\n",
        " {u'_id': u'52eec8a9823ac22d646cc745',\n",
        "  u'_links': {u'self': {u'href': u'/miner/Gimli', u'title': u'miner'}},\n",
        "  u'created': u'Sun, 02 Feb 2014 22:37:29 GMT',\n",
        "  u'etag': u'a314d5b2afdb156825094dc22e5d51caaa7e8489',\n",
        "  u'hostname': u'gimli.local',\n",
        "  u'name': u'Gimli',\n",
        "  u'updated': u'Sun, 02 Feb 2014 22:37:29 GMT'}]\n",
        "None\n"
       ]
      }
     ],
     "prompt_number": 20
    },
    {
     "cell_type": "code",
     "collapsed": false,
     "input": [
      "#post a miner\n",
      "import requests, json\n",
      "\n",
      "url = \"http://127.0.0.1:5005/miner/\"\n",
      "\n",
      "payload = {  'name': 'Gimli', 'hostname': 'gimli.local' }\n",
      "headers = {\"content-type\": \"application/json\"}\n",
      "\n",
      "r = requests.post(url, headers = headers, data = json.dumps(payload))\n",
      "print r.text"
     ],
     "language": "python",
     "metadata": {},
     "outputs": [
      {
       "output_type": "stream",
       "stream": "stdout",
       "text": [
        "{\"status\": \"OK\", \"updated\": \"Sun, 02 Feb 2014 22:37:29 GMT\", \"etag\": \"a314d5b2afdb156825094dc22e5d51caaa7e8489\", \"_links\": {\"self\": {\"href\": \"/miner/52eec8a9823ac22d646cc745\", \"title\": \"miner\"}}, \"name\": \"52eec8a9823ac22d646cc745\"}\n"
       ]
      }
     ],
     "prompt_number": 17
    },
    {
     "cell_type": "code",
     "collapsed": false,
     "input": [
      "#get stats\n",
      "import requests\n",
      "\n",
      "url = \"http://127.0.0.1:5005/\"\n",
      "\n",
      "r = requests.get(url + \"stat/\")\n",
      "print r.text"
     ],
     "language": "python",
     "metadata": {},
     "outputs": [
      {
       "output_type": "stream",
       "stream": "stdout",
       "text": [
        "{\"_items\": [{\"updated\": \"Sun, 02 Feb 2014 23:35:25 GMT\", \"created\": \"Sun, 02 Feb 2014 23:35:25 GMT\", \"when\": \"Sun, 02 Feb 2014 16:35:25 GMT\", \"miner\": \"52eec81c823ac22d646cc73f\", \"etag\": \"fce89651de6ff2d2be058603c4feda6e6802ce84\", \"_links\": {\"self\": {\"href\": \"/stat/52eed63d823ac22f33379ae2\", \"title\": \"Stat\"}}, \"_id\": \"52eed63d823ac22f33379ae2\", \"hashrate\": 5}], \"_links\": {\"self\": {\"href\": \"/stat\", \"title\": \"stat\"}, \"parent\": {\"href\": \"\", \"title\": \"home\"}}}\n"
       ]
      }
     ],
     "prompt_number": 33
    },
    {
     "cell_type": "code",
     "collapsed": false,
     "input": [
      "#post a stat\n",
      "import requests, json, datetime\n",
      "\n",
      "url = \"http://127.0.0.1:5005/stat/\"\n",
      "now = datetime.datetime.now()\n",
      "payload = { \n",
      "  'hashrate': 5, \n",
      "  'miner': '52eec81c823ac22d646cc73f', \n",
      "  'when': now.strftime('%a, %d %b %Y %X GMT'),\n",
      "}\n",
      "headers = {\"content-type\": \"application/json\"}\n",
      "\n",
      "r = requests.post(url, headers = headers, data = json.dumps(payload))\n",
      "print r.text"
     ],
     "language": "python",
     "metadata": {},
     "outputs": [
      {
       "output_type": "stream",
       "stream": "stdout",
       "text": [
        "{\"status\": \"OK\", \"updated\": \"Sun, 02 Feb 2014 23:35:25 GMT\", \"_id\": \"52eed63d823ac22f33379ae2\", \"_links\": {\"self\": {\"href\": \"/stat/52eed63d823ac22f33379ae2\", \"title\": \"Stat\"}}, \"etag\": \"fce89651de6ff2d2be058603c4feda6e6802ce84\"}\n"
       ]
      }
     ],
     "prompt_number": 32
    },
    {
     "cell_type": "code",
     "collapsed": false,
     "input": [],
     "language": "python",
     "metadata": {},
     "outputs": []
    }
   ],
   "metadata": {}
  }
 ]
}